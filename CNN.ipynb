{
 "cells": [
  {
   "cell_type": "code",
   "execution_count": null,
   "metadata": {},
   "outputs": [],
   "source": [
    "# Primeiramente, vou carregar e analisar o notebook \"cnn.ipynb\" para entender o código existente.\n",
    "import nbformat\n",
    "\n",
    "# Caminho para o arquivo do notebook\n",
    "notebook_path = '/mnt/data/cnn.ipynb'\n",
    "\n",
    "# Carregando o notebook\n",
    "with open(notebook_path, 'r') as notebook_file:\n",
    "    notebook = nbformat.read(notebook_file, as_version=4)\n",
    "\n",
    "# Extraindo e imprimindo o código de cada célula do notebook para análise\n",
    "for cell in notebook.cells:\n",
    "    if cell.cell_type == 'code':\n",
    "        print(cell.source)\n",
    "        print(\"\\n---\\n\")  # Separador para cada célula de código\n"
   ]
  }
 ],
 "metadata": {
  "language_info": {
   "name": "python"
  }
 },
 "nbformat": 4,
 "nbformat_minor": 2
}
