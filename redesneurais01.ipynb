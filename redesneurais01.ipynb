{
 "cells": [
  {
   "cell_type": "code",
   "execution_count": 1,
   "metadata": {},
   "outputs": [],
   "source": [
    "import numpy as np"
   ]
  },
  {
   "cell_type": "code",
   "execution_count": 2,
   "metadata": {},
   "outputs": [],
   "source": [
    "class McCullochPittsNeuron:\n",
    "\n",
    "    def __init__(self, weights, threshold):\n",
    "        self.weights = weights\n",
    "        self.threshold = threshold\n",
    "    def activation(self, inputs):\n",
    "        weighted_sum = np.dot(inputs, self.weights)\n",
    "        if weighted_sum >= self.threshold:\n",
    "            return 1\n",
    "        else:\n",
    "            return 0"
   ]
  },
  {
   "cell_type": "code",
   "execution_count": null,
   "metadata": {},
   "outputs": [],
   "source": [
    "import pandas as pd\n",
    "import numpy as np\n",
    "from random import seed\n",
    "from random import random\n",
    "\n",
    "# Função degrau \n",
    "def stepFunction(soma):\n",
    "  if (soma >= 1):\n",
    "    return 1\n",
    "  return 0\n",
    "\n",
    "# Entrada AND\n",
    "entradas = np.array([[0,0], [0,1], [1,0], [1,1]]) \n",
    "saidas = np.array([0, 0, 0, 1])\n",
    "\n",
    "# Pesos aleatórios\n",
    "seed(1)\n",
    "pesos = 2 * np.random.random((2, 1)) - 1\n",
    "\n",
    "taxa_aprendizagem = 0.1\n",
    "momento = 1\n",
    "\n",
    "for _ in range(500):\n",
    "    # Forward Pass\n",
    "    camadaEntrada = entradas\n",
    "    somaSinapse = np.dot(camadaEntrada, pesos)\n",
    "    camadaSaida = stepFunction(somaSinapse)\n",
    "\n",
    "    # Backpropagation\n",
    "    erroCamadaSaida = saidas - camadaSaida\n",
    "    ajuste = taxa_aprendizagem * np.dot(camadaEntrada.T, erroCamadaSaida)\n",
    "    pesos += ajuste + momento * ajuste\n",
    "\n",
    "print(pesos)"
   ]
  },
  {
   "cell_type": "code",
   "execution_count": null,
   "metadata": {},
   "outputs": [],
   "source": []
  }
 ],
 "metadata": {
  "kernelspec": {
   "display_name": "Python 3",
   "language": "python",
   "name": "python3"
  },
  "language_info": {
   "codemirror_mode": {
    "name": "ipython",
    "version": 3
   },
   "file_extension": ".py",
   "mimetype": "text/x-python",
   "name": "python",
   "nbconvert_exporter": "python",
   "pygments_lexer": "ipython3",
   "version": "3.11.1"
  },
  "orig_nbformat": 4
 },
 "nbformat": 4,
 "nbformat_minor": 2
}
