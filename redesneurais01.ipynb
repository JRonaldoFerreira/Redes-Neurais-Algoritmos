{
 "cells": [
  {
   "cell_type": "code",
   "execution_count": 14,
   "metadata": {},
   "outputs": [
    {
     "name": "stdout",
     "output_type": "stream",
     "text": [
      "0 1\n",
      "0 0\n",
      "0 0\n",
      "0 0\n"
     ]
    },
    {
     "data": {
      "text/plain": [
       "numpy.ndarray"
      ]
     },
     "execution_count": 14,
     "metadata": {},
     "output_type": "execute_result"
    }
   ],
   "source": [
    "import numpy as np\n",
    "\n",
    "# Classe Perceptron\n",
    "class Perceptron:\n",
    "\n",
    "    def __init__(self, n_inputs):\n",
    "        self.weights = np.random.rand(n_inputs) \n",
    "        self.bias = np.random.rand()\n",
    "\n",
    "    def activate(self, inputs):\n",
    "        weighted_sum = np.dot(self.weights, inputs) + self.bias\n",
    "        return 1 if weighted_sum <= 0 else 0\n",
    "\n",
    "# Entradas e saídas esperadas considerando a porta NAND \n",
    "X = np.array([[0, 0], [0, 1], [1, 0], [1, 1]])  \n",
    "y = np.array([1, 0, 0, 0])\n",
    "\n",
    "# Criando a perceptron\n",
    "n_inputs = X.shape[1]\n",
    "p = Perceptron(n_inputs)\n",
    "\n",
    "# Treinamento\n",
    "iterations = 100\n",
    "lr = 0.1\n",
    "for _ in range(iterations):\n",
    "    for xi, yi in zip(X, y):\n",
    "        y_hat = p.activate(xi)\n",
    "        error = yi - y_hat\n",
    "        p.weights += lr * error * xi\n",
    "        p.bias += lr * error\n",
    "\n",
    "# Teste        \n",
    "for xi, yi in zip(X, y):\n",
    "    print(p.activate(xi), yi)\n",
    "\n",
    " "
   ]
  },
  {
   "cell_type": "code",
   "execution_count": 16,
   "metadata": {},
   "outputs": [
    {
     "data": {
      "text/plain": [
       "array([2, 4, 6, 8])"
      ]
     },
     "execution_count": 16,
     "metadata": {},
     "output_type": "execute_result"
    }
   ],
   "source": [
    "k = np.array([1, 2, 3, 4]) + np.array([1, 2, 3, 4]) \n",
    "\n",
    "k"
   ]
  },
  {
   "cell_type": "code",
   "execution_count": 15,
   "metadata": {},
   "outputs": [
    {
     "data": {
      "text/plain": [
       "numpy.ndarray"
      ]
     },
     "execution_count": 15,
     "metadata": {},
     "output_type": "execute_result"
    }
   ],
   "source": [
    "type(p.weights)   "
   ]
  }
 ],
 "metadata": {
  "kernelspec": {
   "display_name": "Python 3",
   "language": "python",
   "name": "python3"
  },
  "language_info": {
   "codemirror_mode": {
    "name": "ipython",
    "version": 3
   },
   "file_extension": ".py",
   "mimetype": "text/x-python",
   "name": "python",
   "nbconvert_exporter": "python",
   "pygments_lexer": "ipython3",
   "version": "3.11.1"
  },
  "orig_nbformat": 4
 },
 "nbformat": 4,
 "nbformat_minor": 2
}
