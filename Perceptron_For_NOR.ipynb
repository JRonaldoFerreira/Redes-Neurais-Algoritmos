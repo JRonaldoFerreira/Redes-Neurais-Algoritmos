{
 "cells": [
  {
   "cell_type": "code",
   "execution_count": null,
   "metadata": {},
   "outputs": [],
   "source": [
    "import numpy as np\n",
    "\n",
    "# Classe Perceptron\n",
    "class Perceptron:\n",
    "\n",
    "    def __init__(self, n_inputs):\n",
    "        self.weights = np.random.rand(n_inputs) \n",
    "        self.bias = np.random.rand()\n",
    "\n",
    "    def activate(self, inputs):\n",
    "        weighted_sum = np.dot(self.weights, inputs) + self.bias\n",
    "        return 1 if weighted_sum <= 0 else 0\n",
    "\n",
    "# Entradas e saídas esperadas considerando a porta NOR \n",
    "X = np.array([[0, 0], [0, 1], [1, 0], [1, 1]])  \n",
    "y = np.array([1, 0, 0, 0])\n",
    "\n",
    "# Criando a perceptron\n",
    "n_inputs = X.shape[1]\n",
    "p = Perceptron(n_inputs)\n",
    "\n",
    "# Treinamento\n",
    "iterations = 100\n",
    "lr = 0.1\n",
    "for _ in range(iterations):\n",
    "    for xi, yi in zip(X, y):\n",
    "        y_hat = p.activate(xi)\n",
    "        error = yi - y_hat\n",
    "        p.weights += lr * error * xi\n",
    "        p.bias += lr * error\n",
    "\n",
    "# Teste        \n",
    "for xi, yi in zip(X, y):\n",
    "    print(p.activate(xi), yi)\n",
    "\n",
    " "
   ]
  }
 ],
 "metadata": {
  "language_info": {
   "name": "python"
  },
  "orig_nbformat": 4
 },
 "nbformat": 4,
 "nbformat_minor": 2
}
