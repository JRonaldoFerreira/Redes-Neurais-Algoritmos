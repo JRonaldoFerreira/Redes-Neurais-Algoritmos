{
 "cells": [
  {
   "cell_type": "code",
   "execution_count": 20,
   "metadata": {},
   "outputs": [
    {
     "name": "stdout",
     "output_type": "stream",
     "text": [
      "0.8\n"
     ]
    }
   ],
   "source": [
    "import numpy as np\n",
    "import math \n",
    "\n",
    "class Adaline:\n",
    "\n",
    "    def __init__(self, n_inputs, learning_rate, bias):\n",
    "        self.weights = np.random.rand(n_inputs) \n",
    "        self.learning_rate = learning_rate\n",
    "        self.bias = bias \n",
    "\n",
    "    def fit(self, X, y, epoch):\n",
    "        for _ in range(epoch):\n",
    "            self.errors_soma = 0\n",
    "            for xi, target in zip(X, y):\n",
    "                output = self.predict(xi)\n",
    "                error = target - output\n",
    "                self.weights += self.learning_rate * error * xi\n",
    "                self.errors_soma += error**2\n",
    "            self.errors = math.sqrt(self.errors_soma / len(y))\n",
    "            if self.errors < 0.2:\n",
    "                break\n",
    "    def predict(self, X):\n",
    "        return (np.dot(X, self.weights) + self.bias)\n",
    "\n",
    "# Exemplo de uso\n",
    "\n",
    "# Dados de entrada\n",
    "X = np.array([[0,0], [0,1], [1,0], [1,1]])  \n",
    "\n",
    "# Rótulos desejados\n",
    "y = np.array([0, 0, 0, 1])  \n",
    "\n",
    "# Taxa de aprendizagem\n",
    "learning_rate = 0.5\n",
    "\n",
    "# Criando objeto Adaline\n",
    "adaline = Adaline(n_inputs=2, learning_rate=learning_rate, bias = 0.6)\n",
    "\n",
    "# Treinando modelo\n",
    "adaline.fit(X, y, 1000)  \n",
    "\n",
    "# Fazendo previsões\n",
    "print(adaline.predict([0, 1])) \n"
   ]
  }
 ],
 "metadata": {
  "kernelspec": {
   "display_name": "Python 3",
   "language": "python",
   "name": "python3"
  },
  "language_info": {
   "codemirror_mode": {
    "name": "ipython",
    "version": 3
   },
   "file_extension": ".py",
   "mimetype": "text/x-python",
   "name": "python",
   "nbconvert_exporter": "python",
   "pygments_lexer": "ipython3",
   "version": "3.11.1"
  },
  "orig_nbformat": 4
 },
 "nbformat": 4,
 "nbformat_minor": 2
}
