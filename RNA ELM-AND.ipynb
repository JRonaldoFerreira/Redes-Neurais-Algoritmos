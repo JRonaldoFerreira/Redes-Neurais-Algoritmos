{
 "cells": [
  {
   "cell_type": "code",
   "execution_count": null,
   "metadata": {},
   "outputs": [],
   "source": [
    "import numpy as np\n",
    "\n",
    "X = np.array([[1,1], [1,0], [0,1], [0,0]])\n",
    "\n",
    "# Saídas desejadas        \n",
    "y = np.array([1, 0, 0, 0])\n",
    "\n",
    "# Número de neurônios na camada oculta\n",
    "hidden_neurons = 4 \n",
    "\n",
    "# Inicializa os pesos aleatórios da camada de entrada para a oculta\n",
    "input_weights = np.random.uniform(-1, 1, (X.shape[1], hidden_neurons))\n",
    "\n",
    "# Calcula os outputs da camada oculta\n",
    "hidden_output = X.dot(input_weights) \n",
    "\n",
    "# Determina os pesos otimizados da camada oculta para a de saída\n",
    "# através da pseudoinversa de Moore-Penrose \n",
    "output_weights = np.linalg.pinv(hidden_output).dot(y)\n",
    "\n",
    "# Faz previsões nos dados de treinamento\n",
    "predictions = hidden_output.dot(output_weights)\n",
    "\n",
    "# Imprime os pesos e previsões\n",
    "print(\"Pesos aleatórios iniciais:\")\n",
    "print(input_weights)\n",
    "print(\"Pesos camada oculta-saída:\") \n",
    "print(output_weights)\n",
    "print(\"Previsões ELM:\")\n",
    "print(predictions)"
   ]
  }
 ],
 "metadata": {
  "language_info": {
   "name": "python"
  },
  "orig_nbformat": 4
 },
 "nbformat": 4,
 "nbformat_minor": 2
}
