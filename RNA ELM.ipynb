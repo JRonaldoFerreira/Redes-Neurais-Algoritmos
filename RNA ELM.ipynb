{
 "cells": [
  {
   "cell_type": "code",
   "execution_count": 1,
   "metadata": {},
   "outputs": [
    {
     "name": "stdout",
     "output_type": "stream",
     "text": [
      "Pesos aleatórios iniciais:\n",
      "[[-0.13784528 -0.7503692   0.67067751 -0.36216755]\n",
      " [ 0.57833253 -0.48979936  0.36802257 -0.72531603]\n",
      " [ 0.7623656   0.31322479  0.96935264 -0.81680452]]\n",
      "Pesos camada oculta-saída:\n",
      "[ 0.09591476 -0.28146081  0.30579095 -0.26765171]\n",
      "Previsões ELM:\n",
      "[1.5 1.  1.  1.  0.5 0.5 0.5 0. ]\n"
     ]
    }
   ],
   "source": [
    "import numpy as np\n",
    "\n",
    "# Entradas de treinamento\n",
    "X = np.array([[1, 1, 1], \n",
    "              [0, 1, 1],\n",
    "              [1, 0, 1],\n",
    "              [1, 1, 0],  \n",
    "              [0, 0, 1],\n",
    "              [0, 1, 0],\n",
    "              [1, 0, 0],\n",
    "              [0, 0, 0]])\n",
    "\n",
    "# Saídas desejadas        \n",
    "y = np.array([1, 1, 1, 1, 1, 1, 1, 0])\n",
    "\n",
    "# Número de neurônios na camada oculta\n",
    "hidden_neurons = 4 \n",
    "\n",
    "# Inicializa os pesos aleatórios da camada de entrada para a oculta\n",
    "input_weights = np.random.uniform(-1, 1, (X.shape[1], hidden_neurons))\n",
    "\n",
    "# Calcula os outputs da camada oculta\n",
    "hidden_output = X.dot(input_weights) \n",
    "\n",
    "# Determina os pesos otimizados da camada oculta para a de saída\n",
    "# através da pseudoinversa de Moore-Penrose \n",
    "output_weights = np.linalg.pinv(hidden_output).dot(y)\n",
    "\n",
    "# Faz previsões nos dados de treinamento\n",
    "predictions = hidden_output.dot(output_weights)\n",
    "\n",
    "# Imprime os pesos e previsões\n",
    "print(\"Pesos aleatórios iniciais:\")\n",
    "print(input_weights)\n",
    "print(\"Pesos camada oculta-saída:\") \n",
    "print(output_weights)\n",
    "print(\"Previsões ELM:\")\n",
    "print(predictions)"
   ]
  }
 ],
 "metadata": {
  "kernelspec": {
   "display_name": "Python 3",
   "language": "python",
   "name": "python3"
  },
  "language_info": {
   "codemirror_mode": {
    "name": "ipython",
    "version": 3
   },
   "file_extension": ".py",
   "mimetype": "text/x-python",
   "name": "python",
   "nbconvert_exporter": "python",
   "pygments_lexer": "ipython3",
   "version": "3.11.1"
  },
  "orig_nbformat": 4
 },
 "nbformat": 4,
 "nbformat_minor": 2
}
