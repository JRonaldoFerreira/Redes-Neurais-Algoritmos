{
 "cells": [
  {
   "cell_type": "code",
   "execution_count": 1,
   "metadata": {},
   "outputs": [
    {
     "name": "stdout",
     "output_type": "stream",
     "text": [
      "Pesos aleatórios iniciais:\n",
      "[[-0.98275064 -0.63539304  0.21515501 -0.23371957]\n",
      " [-0.99115812  0.47702851  0.5952739  -0.11540677]]\n",
      "Pesos camada oculta-saída:\n",
      "[-0.28038166 -0.03463743  0.11100742 -0.05089815]\n",
      "Previsões ELM:\n",
      "[0.66666667 0.33333333 0.33333333 0.        ]\n"
     ]
    }
   ],
   "source": [
    "import numpy as np\n",
    "\n",
    "X = np.array([[1,1], [1,0], [0,1], [0,0]])\n",
    "\n",
    "# Saídas desejadas        \n",
    "y = np.array([0, 1, 1, 0])\n",
    "\n",
    "# Número de neurônios na camada oculta\n",
    "hidden_neurons = 4 \n",
    "\n",
    "# Inicializa os pesos aleatórios da camada de entrada para a oculta\n",
    "input_weights = np.random.uniform(-1, 1, (X.shape[1], hidden_neurons))\n",
    "\n",
    "# Calcula os outputs da camada oculta\n",
    "hidden_output = X.dot(input_weights) \n",
    "\n",
    "# Determina os pesos otimizados da camada oculta para a de saída\n",
    "# através da pseudoinversa de Moore-Penrose \n",
    "output_weights = np.linalg.pinv(hidden_output).dot(y)\n",
    "\n",
    "# Faz previsões nos dados de treinamento\n",
    "predictions = hidden_output.dot(output_weights)\n",
    "\n",
    "# Imprime os pesos e previsões\n",
    "print(\"Pesos aleatórios iniciais:\")\n",
    "print(input_weights)\n",
    "print(\"Pesos camada oculta-saída:\") \n",
    "print(output_weights)\n",
    "print(\"Previsões ELM:\")\n",
    "print(predictions)"
   ]
  }
 ],
 "metadata": {
  "kernelspec": {
   "display_name": "Python 3",
   "language": "python",
   "name": "python3"
  },
  "language_info": {
   "codemirror_mode": {
    "name": "ipython",
    "version": 3
   },
   "file_extension": ".py",
   "mimetype": "text/x-python",
   "name": "python",
   "nbconvert_exporter": "python",
   "pygments_lexer": "ipython3",
   "version": "3.11.1"
  },
  "orig_nbformat": 4
 },
 "nbformat": 4,
 "nbformat_minor": 2
}
