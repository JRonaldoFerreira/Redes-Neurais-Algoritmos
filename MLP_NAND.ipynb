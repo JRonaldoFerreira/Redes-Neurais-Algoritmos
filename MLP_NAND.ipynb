{
 "cells": [
  {
   "cell_type": "code",
   "execution_count": 6,
   "metadata": {},
   "outputs": [
    {
     "name": "stdout",
     "output_type": "stream",
     "text": [
      "[[0.]\n",
      " [0.]\n",
      " [0.]\n",
      " [0.]]\n"
     ]
    }
   ],
   "source": [
    "import numpy as np\n",
    "\n",
    "class MLP_NAND:\n",
    "\n",
    "    def __init__(self, input_size, hidden_size, output_size):\n",
    "        np.random.seed(166)\n",
    "        self.W1 = np.random.normal(scale=1, size=(input_size, hidden_size))\n",
    "        self.W2 = np.random.normal(scale=1, size=(hidden_size, output_size))\n",
    "\n",
    "    def sigmoid(self, x):\n",
    "        return 1/(1+np.exp(-x))\n",
    "\n",
    "    def forward(self, X):\n",
    "        # Propagação forward\n",
    "        self.Z1 = np.dot(X, self.W1)  \n",
    "        self.A1 = self.sigmoid(self.Z1)\n",
    "        self.Z2 = np.dot(self.A1, self.W2)\n",
    "        self.A2 = self.sigmoid(self.Z2)\n",
    "        return self.A2\n",
    "    \n",
    "    def train(self, X, y, epochs, alpha):\n",
    "        #Loop de treinamento\n",
    "        for i in range(epochs): \n",
    "            self.forward(X)\n",
    "            #Restante do código de treinamento\n",
    "\n",
    "    def test(self, X):\n",
    "        self.forward(X) \n",
    "        return np.round(self.A2)\n",
    "        \n",
    "if __name__ == \"__main__\":\n",
    "\n",
    "    X = np.array([[0,0],[0,1],[1,0],[1,1]])\n",
    "    y = np.array([0,1,1,0])\n",
    "\n",
    "    neural_net = MLP_NAND(input_size=2, hidden_size=3, output_size=1)\n",
    "\n",
    "\n",
    "    print(neural_net.test(X))"
   ]
  }
 ],
 "metadata": {
  "kernelspec": {
   "display_name": "Python 3",
   "language": "python",
   "name": "python3"
  },
  "language_info": {
   "codemirror_mode": {
    "name": "ipython",
    "version": 3
   },
   "file_extension": ".py",
   "mimetype": "text/x-python",
   "name": "python",
   "nbconvert_exporter": "python",
   "pygments_lexer": "ipython3",
   "version": "3.11.1"
  },
  "orig_nbformat": 4
 },
 "nbformat": 4,
 "nbformat_minor": 2
}
