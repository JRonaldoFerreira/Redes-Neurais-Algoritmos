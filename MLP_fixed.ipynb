{
 "cells": [
  {
   "cell_type": "code",
   "execution_count": 10,
   "metadata": {},
   "outputs": [
    {
     "name": "stdout",
     "output_type": "stream",
     "text": [
      "1\n"
     ]
    }
   ],
   "source": [
    "import numpy as np\n",
    "\n",
    "class MLP:\n",
    "\n",
    "    def __init__(self):\n",
    "       self.W = np.array([[-0.3, 0.2, 0.1],\n",
    "                          [0.1, -0.2, 0.3]])\n",
    "       self.b = np.array([-0.1, 0.2])\n",
    "\n",
    "    def forward(self, x):\n",
    "       x = np.array(x).reshape(1, -1)  \n",
    "       \n",
    "       z = np.dot(x, self.W.T) + self.b  \n",
    "       return z\n",
    "\n",
    "    def predict(self, x):\n",
    "       z = self.forward(x)\n",
    "       if z[0, 0] > z[0, 1]:  # Acesse os elementos corretos da matriz z\n",
    "           return 1\n",
    "       else:\n",
    "           return 2\n",
    "           \n",
    "# Teste       \n",
    "x = [10, 12, -9]\n",
    "\n",
    "mlp = MLP()\n",
    "print(mlp.predict(x))\n"
   ]
  }
 ],
 "metadata": {
  "kernelspec": {
   "display_name": "Python 3",
   "language": "python",
   "name": "python3"
  },
  "language_info": {
   "codemirror_mode": {
    "name": "ipython",
    "version": 3
   },
   "file_extension": ".py",
   "mimetype": "text/x-python",
   "name": "python",
   "nbconvert_exporter": "python",
   "pygments_lexer": "ipython3",
   "version": "3.11.1"
  },
  "orig_nbformat": 4
 },
 "nbformat": 4,
 "nbformat_minor": 2
}
